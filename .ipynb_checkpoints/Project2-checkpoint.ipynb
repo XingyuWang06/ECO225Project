{
 "cells": [
  {
   "cell_type": "markdown",
   "id": "edfa1f6e-c81a-4760-85a4-8600ddeb2924",
   "metadata": {},
   "source": [
    "# **Title**"
   ]
  },
  {
   "cell_type": "markdown",
   "id": "4c166237-262c-49e1-93de-accc77355ee2",
   "metadata": {},
   "source": [
    "## Introduction"
   ]
  },
  {
   "cell_type": "code",
   "execution_count": 2,
   "id": "f07eaf18-b52e-4f49-b15e-1632c002d86b",
   "metadata": {},
   "outputs": [],
   "source": [
    "# data cleaning and loading"
   ]
  },
  {
   "cell_type": "code",
   "execution_count": 3,
   "id": "dff7e2a4-3d8e-4d77-bde9-ebaee2c186a4",
   "metadata": {},
   "outputs": [],
   "source": [
    "# summary statistics tables"
   ]
  },
  {
   "cell_type": "code",
   "execution_count": 4,
   "id": "0f69ea16-1357-434a-a839-a4aa79831670",
   "metadata": {},
   "outputs": [],
   "source": [
    "# plots, histograms, figures"
   ]
  },
  {
   "cell_type": "markdown",
   "id": "1e411f21-d4fd-42e9-8491-c3de624ad81e",
   "metadata": {},
   "source": [
    "## Coclusion"
   ]
  }
 ],
 "metadata": {
  "kernelspec": {
   "display_name": "Python 3 (ipykernel)",
   "language": "python",
   "name": "python3"
  },
  "language_info": {
   "codemirror_mode": {
    "name": "ipython",
    "version": 3
   },
   "file_extension": ".py",
   "mimetype": "text/x-python",
   "name": "python",
   "nbconvert_exporter": "python",
   "pygments_lexer": "ipython3",
   "version": "3.11.5"
  }
 },
 "nbformat": 4,
 "nbformat_minor": 5
}
