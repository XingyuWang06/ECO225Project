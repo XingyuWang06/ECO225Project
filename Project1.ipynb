{
 "cells": [
  {
   "cell_type": "markdown",
   "id": "edfa1f6e-c81a-4760-85a4-8600ddeb2924",
   "metadata": {},
   "source": [
    "# **Analyze The Influence Of Crime Types On The Arrest Rate In Different Areas Of Chicago.**"
   ]
  },
  {
   "cell_type": "markdown",
   "id": "4c166237-262c-49e1-93de-accc77355ee2",
   "metadata": {},
   "source": [
    "## Introduction ##"
   ]
  },
  {
   "cell_type": "markdown",
   "id": "f17cc7f9-099c-4872-902d-732c03883595",
   "metadata": {},
   "source": [
    "Crime is a complex and multifaceted issue that has significant implications for public safety and community well-being. In general, Crime could be divided into two types, violent and non-violent crime; furthermore, crimes like \"Homicide\", \"Assault\", and \"Robbery\" are considered violent, while crimes like \"Theft\" and \"Property damage\" are non-violent. The city of Chicago, like many urban centers, experiences a diverse range of criminal activities. Therefore, Chicago has been grappling with crime-related concerns, and understanding the factors influencing arrest rates can offer valuable insights into effective law enforcement strategies and community safety. This dataset reference is extracted from the Chicago Police Department's CLEAR (Citizen Law Enforcement Analysis and Reporting) system and hosted in Google BigQuery, which contains incidents of crime except murders that occurred in the city of Chicago from 2001 to 2024."
   ]
  },
  {
   "cell_type": "markdown",
   "id": "8e50932f-c8fb-437b-88b9-77cd5a7df005",
   "metadata": {},
   "source": [
    "## Data Cleaning and Loading"
   ]
  },
  {
   "cell_type": "code",
   "execution_count": null,
   "id": "e1b99c30-1f1a-4015-84df-d60cc3135b3f",
   "metadata": {},
   "outputs": [],
   "source": []
  },
  {
   "cell_type": "markdown",
   "id": "57595c7f-04ee-4adf-8f1a-c68575eedb47",
   "metadata": {},
   "source": [
    "## Summary Statistics Tables"
   ]
  },
  {
   "cell_type": "code",
   "execution_count": null,
   "id": "a59bb5d5-4a96-49e6-b067-834fddedee93",
   "metadata": {},
   "outputs": [],
   "source": []
  },
  {
   "cell_type": "markdown",
   "id": "9ade5865-5550-4b32-9e54-b8e767a54dfd",
   "metadata": {},
   "source": [
    "## Plots, Histograms, Figures"
   ]
  },
  {
   "cell_type": "code",
   "execution_count": null,
   "id": "8507ad70-d220-401a-a88b-e002fa0ebf96",
   "metadata": {},
   "outputs": [],
   "source": []
  },
  {
   "cell_type": "markdown",
   "id": "1e411f21-d4fd-42e9-8491-c3de624ad81e",
   "metadata": {},
   "source": [
    "## Coclusion"
   ]
  },
  {
   "cell_type": "code",
   "execution_count": null,
   "id": "24e57cbf-ccbc-4148-81da-c1968c7d2f26",
   "metadata": {},
   "outputs": [],
   "source": []
  }
 ],
 "metadata": {
  "kernelspec": {
   "display_name": "Python 3 (ipykernel)",
   "language": "python",
   "name": "python3"
  },
  "language_info": {
   "codemirror_mode": {
    "name": "ipython",
    "version": 3
   },
   "file_extension": ".py",
   "mimetype": "text/x-python",
   "name": "python",
   "nbconvert_exporter": "python",
   "pygments_lexer": "ipython3",
   "version": "3.11.5"
  }
 },
 "nbformat": 4,
 "nbformat_minor": 5
}
